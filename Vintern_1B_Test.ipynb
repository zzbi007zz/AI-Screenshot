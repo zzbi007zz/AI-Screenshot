{
  "cells": [
    {
      "cell_type": "markdown",
      "metadata": {
        "id": "view-in-github",
        "colab_type": "text"
      },
      "source": [
        "<a href=\"https://colab.research.google.com/github/zzbi007zz/AI-Screenshot/blob/main/Vintern_1B_Test.ipynb\" target=\"_parent\"><img src=\"https://colab.research.google.com/assets/colab-badge.svg\" alt=\"Open In Colab\"/></a>"
      ]
    },
    {
      "cell_type": "code",
      "execution_count": 1,
      "metadata": {
        "id": "TSG3wPH_Wmr8",
        "outputId": "335c97c8-903a-4240-ef9e-80bd2dd26b19",
        "colab": {
          "base_uri": "https://localhost:8080/"
        }
      },
      "outputs": [
        {
          "output_type": "stream",
          "name": "stdout",
          "text": [
            "\u001b[2K     \u001b[90m━━━━━━━━━━━━━━━━━━━━━━━━━━━━━━━━━━━━━━━━\u001b[0m \u001b[32m43.7/43.7 kB\u001b[0m \u001b[31m1.7 MB/s\u001b[0m eta \u001b[36m0:00:00\u001b[0m\n",
            "\u001b[2K   \u001b[90m━━━━━━━━━━━━━━━━━━━━━━━━━━━━━━━━━━━━━━━━\u001b[0m \u001b[32m9.5/9.5 MB\u001b[0m \u001b[31m28.2 MB/s\u001b[0m eta \u001b[36m0:00:00\u001b[0m\n",
            "\u001b[2K   \u001b[90m━━━━━━━━━━━━━━━━━━━━━━━━━━━━━━━━━━━━━━━━\u001b[0m \u001b[32m69.7/69.7 MB\u001b[0m \u001b[31m10.0 MB/s\u001b[0m eta \u001b[36m0:00:00\u001b[0m\n",
            "\u001b[2K   \u001b[90m━━━━━━━━━━━━━━━━━━━━━━━━━━━━━━━━━━━━━━━━\u001b[0m \u001b[32m3.6/3.6 MB\u001b[0m \u001b[31m39.3 MB/s\u001b[0m eta \u001b[36m0:00:00\u001b[0m\n",
            "\u001b[2K   \u001b[90m━━━━━━━━━━━━━━━━━━━━━━━━━━━━━━━━━━━━━━━━\u001b[0m \u001b[32m363.4/363.4 MB\u001b[0m \u001b[31m4.5 MB/s\u001b[0m eta \u001b[36m0:00:00\u001b[0m\n",
            "\u001b[2K   \u001b[90m━━━━━━━━━━━━━━━━━━━━━━━━━━━━━━━━━━━━━━━━\u001b[0m \u001b[32m13.8/13.8 MB\u001b[0m \u001b[31m34.7 MB/s\u001b[0m eta \u001b[36m0:00:00\u001b[0m\n",
            "\u001b[2K   \u001b[90m━━━━━━━━━━━━━━━━━━━━━━━━━━━━━━━━━━━━━━━━\u001b[0m \u001b[32m24.6/24.6 MB\u001b[0m \u001b[31m26.4 MB/s\u001b[0m eta \u001b[36m0:00:00\u001b[0m\n",
            "\u001b[2K   \u001b[90m━━━━━━━━━━━━━━━━━━━━━━━━━━━━━━━━━━━━━━━━\u001b[0m \u001b[32m883.7/883.7 kB\u001b[0m \u001b[31m25.5 MB/s\u001b[0m eta \u001b[36m0:00:00\u001b[0m\n",
            "\u001b[2K   \u001b[90m━━━━━━━━━━━━━━━━━━━━━━━━━━━━━━━━━━━━━━━━\u001b[0m \u001b[32m664.8/664.8 MB\u001b[0m \u001b[31m2.4 MB/s\u001b[0m eta \u001b[36m0:00:00\u001b[0m\n",
            "\u001b[2K   \u001b[90m━━━━━━━━━━━━━━━━━━━━━━━━━━━━━━━━━━━━━━━━\u001b[0m \u001b[32m211.5/211.5 MB\u001b[0m \u001b[31m5.9 MB/s\u001b[0m eta \u001b[36m0:00:00\u001b[0m\n",
            "\u001b[2K   \u001b[90m━━━━━━━━━━━━━━━━━━━━━━━━━━━━━━━━━━━━━━━━\u001b[0m \u001b[32m56.3/56.3 MB\u001b[0m \u001b[31m9.9 MB/s\u001b[0m eta \u001b[36m0:00:00\u001b[0m\n",
            "\u001b[2K   \u001b[90m━━━━━━━━━━━━━━━━━━━━━━━━━━━━━━━━━━━━━━━━\u001b[0m \u001b[32m127.9/127.9 MB\u001b[0m \u001b[31m7.0 MB/s\u001b[0m eta \u001b[36m0:00:00\u001b[0m\n",
            "\u001b[2K   \u001b[90m━━━━━━━━━━━━━━━━━━━━━━━━━━━━━━━━━━━━━━━━\u001b[0m \u001b[32m207.5/207.5 MB\u001b[0m \u001b[31m6.2 MB/s\u001b[0m eta \u001b[36m0:00:00\u001b[0m\n",
            "\u001b[2K   \u001b[90m━━━━━━━━━━━━━━━━━━━━━━━━━━━━━━━━━━━━━━━━\u001b[0m \u001b[32m21.1/21.1 MB\u001b[0m \u001b[31m34.1 MB/s\u001b[0m eta \u001b[36m0:00:00\u001b[0m\n",
            "\u001b[2K     \u001b[90m━━━━━━━━━━━━━━━━━━━━━━━━━━━━━━━━━━━━━━━━\u001b[0m \u001b[32m6.0/6.0 MB\u001b[0m \u001b[31m63.3 MB/s\u001b[0m eta \u001b[36m0:00:00\u001b[0m\n",
            "\u001b[?25h  Preparing metadata (setup.py) ... \u001b[?25l\u001b[?25hdone\n",
            "  Building wheel for flash_attn (setup.py) ... \u001b[?25l\u001b[?25hdone\n"
          ]
        }
      ],
      "source": [
        "!pip install -U -q transformers==4.44.2 bitsandbytes\n",
        "!pip install -U -q huggingface_hub\n",
        "!pip install -q flask flask-cors pyngrok flash_attn"
      ]
    },
    {
      "cell_type": "code",
      "source": [
        "import numpy as np\n",
        "import torch\n",
        "import torchvision.transforms as T\n",
        "from PIL import Image\n",
        "from torchvision.transforms.functional import InterpolationMode\n",
        "from transformers import AutoModel, AutoTokenizer\n",
        "import requests"
      ],
      "metadata": {
        "id": "o9-GNm5W3m97"
      },
      "execution_count": 2,
      "outputs": []
    },
    {
      "cell_type": "code",
      "source": [
        "# Thư viện xử lý ảnh đầu vào (từ source gốc HF)\n",
        "IMAGENET_MEAN = (0.485, 0.456, 0.406)\n",
        "IMAGENET_STD = (0.229, 0.224, 0.225)\n",
        "\n",
        "def build_transform(input_size):\n",
        "    MEAN, STD = IMAGENET_MEAN, IMAGENET_STD\n",
        "    transform = T.Compose([\n",
        "        T.Lambda(lambda img: img.convert('RGB') if img.mode != 'RGB' else img),\n",
        "        T.Resize((input_size, input_size), interpolation=InterpolationMode.BICUBIC),\n",
        "        T.ToTensor(),\n",
        "        T.Normalize(mean=MEAN, std=STD)\n",
        "    ])\n",
        "    return transform\n",
        "\n",
        "def find_closest_aspect_ratio(aspect_ratio, target_ratios, width, height, image_size):\n",
        "    best_ratio_diff = float('inf')\n",
        "    best_ratio = (1, 1)\n",
        "    area = width * height\n",
        "    for ratio in target_ratios:\n",
        "        target_aspect_ratio = ratio[0] / ratio[1]\n",
        "        ratio_diff = abs(aspect_ratio - target_aspect_ratio)\n",
        "        if ratio_diff < best_ratio_diff:\n",
        "            best_ratio_diff = ratio_diff\n",
        "            best_ratio = ratio\n",
        "        elif ratio_diff == best_ratio_diff:\n",
        "            if area > 0.5 * image_size * image_size * ratio[0] * ratio[1]:\n",
        "                best_ratio = ratio\n",
        "    return best_ratio\n",
        "\n",
        "def dynamic_preprocess(image, min_num=1, max_num=12, image_size=448, use_thumbnail=False):\n",
        "    orig_width, orig_height = image.size\n",
        "    aspect_ratio = orig_width / orig_height\n",
        "\n",
        "    # calculate the existing image aspect ratio\n",
        "    target_ratios = set(\n",
        "        (i, j) for n in range(min_num, max_num + 1) for i in range(1, n + 1) for j in range(1, n + 1) if\n",
        "        i * j <= max_num and i * j >= min_num)\n",
        "    target_ratios = sorted(target_ratios, key=lambda x: x[0] * x[1])\n",
        "\n",
        "    # find the closest aspect ratio to the target\n",
        "    target_aspect_ratio = find_closest_aspect_ratio(\n",
        "        aspect_ratio, target_ratios, orig_width, orig_height, image_size)\n",
        "\n",
        "    # calculate the target width and height\n",
        "    target_width = image_size * target_aspect_ratio[0]\n",
        "    target_height = image_size * target_aspect_ratio[1]\n",
        "    blocks = target_aspect_ratio[0] * target_aspect_ratio[1]\n",
        "\n",
        "    # resize the image\n",
        "    resized_img = image.resize((target_width, target_height))\n",
        "    processed_images = []\n",
        "    for i in range(blocks):\n",
        "        box = (\n",
        "            (i % (target_width // image_size)) * image_size,\n",
        "            (i // (target_width // image_size)) * image_size,\n",
        "            ((i % (target_width // image_size)) + 1) * image_size,\n",
        "            ((i // (target_width // image_size)) + 1) * image_size\n",
        "        )\n",
        "        # split the image\n",
        "        split_img = resized_img.crop(box)\n",
        "        processed_images.append(split_img)\n",
        "    assert len(processed_images) == blocks\n",
        "    if use_thumbnail and len(processed_images) != 1:\n",
        "        thumbnail_img = image.resize((image_size, image_size))\n",
        "        processed_images.append(thumbnail_img)\n",
        "    return processed_images\n",
        "\n",
        "def load_image(image_file, input_size=448, max_num=12):\n",
        "    image = Image.open(requests.get(image_file, stream=True).raw).convert('RGB')#Image.open(image_file).convert('RGB')\n",
        "    transform = build_transform(input_size=input_size)\n",
        "    images = dynamic_preprocess(image, image_size=input_size, use_thumbnail=True, max_num=max_num)\n",
        "    pixel_values = [transform(image) for image in images]\n",
        "    pixel_values = torch.stack(pixel_values)\n",
        "    return pixel_values"
      ],
      "metadata": {
        "id": "St2r6cMw4nlp"
      },
      "execution_count": 3,
      "outputs": []
    },
    {
      "cell_type": "code",
      "source": [
        "model_name = \"5CD-AI/Vintern-1B-v2\"\n",
        "model = AutoModel.from_pretrained(\n",
        "    model_name,\n",
        "    torch_dtype=torch.bfloat16,\n",
        "    low_cpu_mem_usage=True,\n",
        "    trust_remote_code=True,\n",
        ").eval().cuda()\n",
        "\n",
        "tokenizer = AutoTokenizer.from_pretrained(model_name, trust_remote_code=True, use_fast=False)\n",
        "generation_config = dict(max_new_tokens= 512, do_sample=False, num_beams = 3, repetition_penalty=3.5)\n"
      ],
      "metadata": {
        "id": "dans7Xtd4pl0"
      },
      "execution_count": null,
      "outputs": []
    },
    {
      "cell_type": "code",
      "source": [
        "test_image = 'https://media-cdn-v2.laodong.vn/Storage/NewsPortal/2022/12/7/1124909/Karaoke-2.jpg'\n",
        "\n",
        "pixel_values = load_image(test_image, max_num=6).to(torch.bfloat16).cuda()\n",
        "generation_config = dict(max_new_tokens= 1024, do_sample=False, num_beams = 3, repetition_penalty=2.5)\n",
        "\n",
        "question = '<image>\\nTrích xuất thông tin chính trong ảnh và trả về dạng json.'\n",
        "\n",
        "response, history = model.chat(tokenizer, pixel_values, question, generation_config, history=None, return_history=True)\n",
        "print(f'User: {question}\\nAssistant: {response}')\n",
        "\n"
      ],
      "metadata": {
        "id": "Pp4Jn6QU4szr",
        "outputId": "07bae0ac-a69f-4bc1-bbe4-e30818a9c4d6",
        "colab": {
          "base_uri": "https://localhost:8080/"
        }
      },
      "execution_count": 6,
      "outputs": [
        {
          "output_type": "stream",
          "name": "stderr",
          "text": [
            "Setting `pad_token_id` to `eos_token_id`:151645 for open-end generation.\n"
          ]
        },
        {
          "output_type": "stream",
          "name": "stdout",
          "text": [
            "User: <image>\n",
            "Trích xuất thông tin chính trong ảnh và trả về dạng markdown.\n",
            "Assistant: HÓA ĐƠN TẠM TÍNH\n",
            "ĐC: Số 51, Đường Nguyễn Hoàng - P. Mỹ Đình 2 - Q. Nam Từ Liêm - TP. Hà Nội\n",
            "ĐT: 024 3932 5999\n",
            "Hotline: 0969 61 61 99 - 0962 61 61 99\n",
            "Ngày: 04.12.2022\n",
            "Giờ vào: 19.22\n",
            "Bàn: VIP 222\n",
            "Số Bill: 21.18\n",
            "Giờ ra: 21.18\n",
            "Thu ngân: THU NGÂN 1\n",
            "STT | Tên món | SL | Đơn giá | Giảm giá | T.Tiền\n",
            "1 | Giờ VIP222 | 1h54' | 500 000 | 0% | 950 000\n",
            "2 | Suối | 1 | 12 000 | 0% | 36 000\n",
            "3 | Hoa quả thập cẩm | 1 | 140 000 | 0% | 140 000\n",
            "4 | Hoa quả Bưởi | 2 | 220 000 | 0% | 440 000\n",
            "5 | Hoa Quả Roi | 1 | 100 000 | 0% | 100 000\n",
            "6 | Ken ngoại | 14 | 60 000 | 0% | 840 000\n",
            "Thành tiền: 2 506 000\n",
            "Tiền Thanh Toán: 2 506 000\n"
          ]
        }
      ]
    },
    {
      "cell_type": "code",
      "source": [
        "\n",
        "# Setup Ngrok Token\n",
        "from google.colab import userdata\n",
        "from flask import Flask, jsonify, request\n",
        "from flask_cors import CORS\n",
        "from pyngrok import ngrok\n",
        "\n",
        "authtoken = userdata.get(\"ngrok_token\")\n",
        "ngrok.set_auth_token(authtoken)"
      ],
      "metadata": {
        "id": "t3wjQ6g89e7n",
        "outputId": "a1fde16e-9acd-4935-ca44-e9079165a8e6",
        "colab": {
          "base_uri": "https://localhost:8080/"
        }
      },
      "execution_count": 13,
      "outputs": [
        {
          "output_type": "stream",
          "name": "stdout",
          "text": []
        }
      ]
    },
    {
      "cell_type": "code",
      "source": [
        "from flask import Flask, request, jsonify\n",
        "from flask_cors import CORS\n",
        "import torch\n",
        "from PIL import Image\n",
        "import requests\n",
        "\n",
        "app = Flask(__name__)\n",
        "CORS(app)\n",
        "\n",
        "prompt = '''<image>\\nNhận diện hoá đơn trong ảnh. Chỉ trả về phần liệt kê các mặt hàng hàng dưới dạng CSV'''\n",
        "\n",
        "@app.route('/ocr', methods=['POST'])\n",
        "def index():\n",
        "    data = request.json\n",
        "    image_url = data.get('image_url', None)\n",
        "    response_message = ocr_by_llm(image_url, prompt)\n",
        "    return jsonify({\"response_message\": response_message})\n",
        "\n",
        "def ocr_by_llm(image_url, prompt):\n",
        "    pixel_values = load_image(image_url, max_num=6).to(torch.bfloat16).cuda()\n",
        "    response_message = model.chat(tokenizer, pixel_values, prompt, generation_config)\n",
        "    del pixel_values\n",
        "    print(response_message)\n",
        "    return response_message\n",
        "\n",
        "if __name__ == '__main__':\n",
        "    ngrok_url = ngrok.connect(5555)\n",
        "    print('Public URL:', ngrok_url)\n",
        "    app.run(port=5555)"
      ],
      "metadata": {
        "id": "p_YqEw9q_Fdk",
        "outputId": "5c13b65b-5e77-4f88-b1f5-1fdf65db31c2",
        "colab": {
          "base_uri": "https://localhost:8080/"
        }
      },
      "execution_count": null,
      "outputs": [
        {
          "output_type": "stream",
          "name": "stdout",
          "text": [
            "Public URL: NgrokTunnel: \"https://8172-35-197-4-76.ngrok-free.app\" -> \"http://localhost:5555\"\n",
            " * Serving Flask app '__main__'\n",
            " * Debug mode: off\n"
          ]
        },
        {
          "output_type": "stream",
          "name": "stderr",
          "text": [
            "INFO:werkzeug:\u001b[31m\u001b[1mWARNING: This is a development server. Do not use it in a production deployment. Use a production WSGI server instead.\u001b[0m\n",
            " * Running on http://127.0.0.1:5555\n",
            "INFO:werkzeug:\u001b[33mPress CTRL+C to quit\u001b[0m\n",
            "INFO:werkzeug:127.0.0.1 - - [13/Feb/2025 01:51:49] \"\u001b[33mGET / HTTP/1.1\u001b[0m\" 404 -\n",
            "INFO:werkzeug:127.0.0.1 - - [13/Feb/2025 01:51:50] \"\u001b[33mGET / HTTP/1.1\u001b[0m\" 404 -\n",
            "INFO:werkzeug:127.0.0.1 - - [13/Feb/2025 01:51:50] \"\u001b[33mGET /favicon.ico HTTP/1.1\u001b[0m\" 404 -\n",
            "Setting `pad_token_id` to `eos_token_id`:151645 for open-end generation.\n",
            "INFO:werkzeug:127.0.0.1 - - [13/Feb/2025 02:28:56] \"POST /ocr HTTP/1.1\" 200 -\n"
          ]
        },
        {
          "output_type": "stream",
          "name": "stdout",
          "text": [
            "| TT | Tên món | SL | Đơn giá | Thành tiền |\n",
            "|---|---|---|---|---|\n",
            "| 1 | Giờ hát | 4h11' | 200 000 | 836 000 |\n",
            "| 2 | Oanh | 1,50 | 200 000 | 300 000 |\n",
            "| 3 | Xuân | 2,83 | 200 000 | 566 000 |\n",
            "| 4 | Linh | 4,10 | 200 000 | 820 000 |\n",
            "| 5 | Hoa quả đĩa | 1,00 | 150 000 | 150 000 |\n",
            "| 6 | Thuốc Thăng Long | 1,00 | 20 000 | 20 000 |\n",
            "| 7 | Minh | 2,33 | 200 000 | 466 000 |\n",
            "| 8 | Bia | 23,00 | 20 000 | 460 000 |\n",
            "| 9 | Trà xanh Ô độ | 1,00 | 23 000 | 23 000 |\n",
            "| Thành tiền: | 3 641 000 | 3 641 000 |\n",
            "| Tiền phí dịch vụ | 5% | 182 050 |\n",
            "| Tổng cộng: | 3 823 050 | 3 823 050 |\n",
            "| Tiền Khách Dưa: | 0 | 0 |\n",
            "| Tiền Trà Khách: | 0 | 0 |\n",
            "| Tiền mặt (VND): | 3 823 050 | 3 823 050 |\n"
          ]
        },
        {
          "output_type": "stream",
          "name": "stderr",
          "text": [
            "Setting `pad_token_id` to `eos_token_id`:151645 for open-end generation.\n",
            "INFO:werkzeug:127.0.0.1 - - [13/Feb/2025 02:31:53] \"POST /ocr HTTP/1.1\" 200 -\n"
          ]
        },
        {
          "output_type": "stream",
          "name": "stdout",
          "text": [
            "[['Loại', 'Thứ hai', 'Ngày'], ['22-T01K5', 'Thứ hai', '31-01-2022']]\n"
          ]
        },
        {
          "output_type": "stream",
          "name": "stderr",
          "text": [
            "Setting `pad_token_id` to `eos_token_id`:151645 for open-end generation.\n",
            "INFO:werkzeug:127.0.0.1 - - [13/Feb/2025 02:32:34] \"POST /ocr HTTP/1.1\" 200 -\n"
          ]
        },
        {
          "output_type": "stream",
          "name": "stdout",
          "text": [
            "[{'số hàng': '161073', 'số mặt hàng': '22-T01K5', 'thứ hai': '31-01-2022', 'loại': 'A'}]\n"
          ]
        },
        {
          "output_type": "stream",
          "name": "stderr",
          "text": [
            "Setting `pad_token_id` to `eos_token_id`:151645 for open-end generation.\n",
            "INFO:werkzeug:127.0.0.1 - - [13/Feb/2025 02:33:58] \"POST /ocr HTTP/1.1\" 200 -\n"
          ]
        },
        {
          "output_type": "stream",
          "name": "stdout",
          "text": [
            "['Loại TGB3', 'Một', 'Bốn', 'Năm', 'Tám', 'Năm', 'Một']\n"
          ]
        },
        {
          "output_type": "stream",
          "name": "stderr",
          "text": [
            "Setting `pad_token_id` to `eos_token_id`:151645 for open-end generation.\n",
            "INFO:werkzeug:127.0.0.1 - - [13/Feb/2025 02:34:15] \"POST /ocr HTTP/1.1\" 200 -\n"
          ]
        },
        {
          "output_type": "stream",
          "name": "stdout",
          "text": [
            "['Loại TGB3', 'Một', 'Bốn', 'Năm', 'Tám', 'Năm', 'Một']\n"
          ]
        },
        {
          "output_type": "stream",
          "name": "stderr",
          "text": [
            "Setting `pad_token_id` to `eos_token_id`:151645 for open-end generation.\n",
            "INFO:werkzeug:127.0.0.1 - - [13/Feb/2025 02:34:34] \"POST /ocr HTTP/1.1\" 200 -\n"
          ]
        },
        {
          "output_type": "stream",
          "name": "stdout",
          "text": [
            "['Loại TGB3', 'Một', 'Bốn', 'Năm', 'Tám', 'Năm', 'Một']\n"
          ]
        }
      ]
    }
  ],
  "metadata": {
    "accelerator": "GPU",
    "colab": {
      "gpuType": "T4",
      "provenance": [],
      "include_colab_link": true
    },
    "kernelspec": {
      "display_name": "Python 3",
      "name": "python3"
    },
    "language_info": {
      "name": "python"
    }
  },
  "nbformat": 4,
  "nbformat_minor": 0
}